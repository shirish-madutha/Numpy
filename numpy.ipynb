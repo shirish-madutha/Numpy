{
 "cells": [
  {
   "cell_type": "code",
   "execution_count": 1,
   "id": "899ec91f-0e57-4ff2-bc92-cb6330963a33",
   "metadata": {},
   "outputs": [],
   "source": [
    "import numpy as np"
   ]
  },
  {
   "cell_type": "code",
   "execution_count": 2,
   "id": "bddf25c2-38ad-44b9-8722-1b90ac41cedf",
   "metadata": {},
   "outputs": [],
   "source": [
    "l=[1,2,3]"
   ]
  },
  {
   "cell_type": "code",
   "execution_count": 3,
   "id": "b4e7e397-ec31-4b60-b576-ddb07d284833",
   "metadata": {},
   "outputs": [],
   "source": [
    "n=np.array(l)"
   ]
  },
  {
   "cell_type": "code",
   "execution_count": 4,
   "id": "109664b9-d3c5-4a98-bb66-a4aa2df782c6",
   "metadata": {},
   "outputs": [
    {
     "data": {
      "text/plain": [
       "numpy.ndarray"
      ]
     },
     "execution_count": 4,
     "metadata": {},
     "output_type": "execute_result"
    }
   ],
   "source": [
    "type(n)"
   ]
  },
  {
   "cell_type": "code",
   "execution_count": 5,
   "id": "989b7c99-c6e8-4ed2-811a-f5f38b526cb7",
   "metadata": {},
   "outputs": [
    {
     "data": {
      "text/plain": [
       "dtype('int64')"
      ]
     },
     "execution_count": 5,
     "metadata": {},
     "output_type": "execute_result"
    }
   ],
   "source": [
    "n.dtype"
   ]
  },
  {
   "cell_type": "code",
   "execution_count": 6,
   "id": "11b26b20-3620-4018-a16a-4c6b52409286",
   "metadata": {},
   "outputs": [
    {
     "data": {
      "text/plain": [
       "1"
      ]
     },
     "execution_count": 6,
     "metadata": {},
     "output_type": "execute_result"
    }
   ],
   "source": [
    "n.ndim"
   ]
  },
  {
   "cell_type": "code",
   "execution_count": 7,
   "id": "0e611e0a-19ba-4c7f-996c-11f243c80af6",
   "metadata": {},
   "outputs": [
    {
     "data": {
      "text/plain": [
       "3"
      ]
     },
     "execution_count": 7,
     "metadata": {},
     "output_type": "execute_result"
    }
   ],
   "source": [
    "n.size"
   ]
  },
  {
   "cell_type": "code",
   "execution_count": 8,
   "id": "44d3e0ef-d9f1-4544-b142-608197a25ad5",
   "metadata": {},
   "outputs": [
    {
     "data": {
      "text/plain": [
       "(3,)"
      ]
     },
     "execution_count": 8,
     "metadata": {},
     "output_type": "execute_result"
    }
   ],
   "source": [
    "n.shape"
   ]
  },
  {
   "cell_type": "code",
   "execution_count": 9,
   "id": "7cd22f8d-8d63-49d8-9485-3044d0a90a14",
   "metadata": {},
   "outputs": [],
   "source": [
    "l1=[[1,2,3],[4,5,6]]"
   ]
  },
  {
   "cell_type": "code",
   "execution_count": 10,
   "id": "716c2df1-e0d4-4381-9897-c163c874e2ad",
   "metadata": {},
   "outputs": [],
   "source": [
    "a=np.array(l1)"
   ]
  },
  {
   "cell_type": "code",
   "execution_count": 11,
   "id": "f3c2d3ba-97de-4f20-8133-548adbbd5922",
   "metadata": {},
   "outputs": [
    {
     "data": {
      "text/plain": [
       "numpy.ndarray"
      ]
     },
     "execution_count": 11,
     "metadata": {},
     "output_type": "execute_result"
    }
   ],
   "source": [
    "type(a)"
   ]
  },
  {
   "cell_type": "code",
   "execution_count": 12,
   "id": "3d15b0f3-0352-47ce-aea1-624900734e6b",
   "metadata": {},
   "outputs": [
    {
     "data": {
      "text/plain": [
       "dtype('int64')"
      ]
     },
     "execution_count": 12,
     "metadata": {},
     "output_type": "execute_result"
    }
   ],
   "source": [
    "a.dtype"
   ]
  },
  {
   "cell_type": "code",
   "execution_count": 13,
   "id": "d55b10e5-544b-4f27-b4bc-fe7de63fac47",
   "metadata": {},
   "outputs": [
    {
     "data": {
      "text/plain": [
       "2"
      ]
     },
     "execution_count": 13,
     "metadata": {},
     "output_type": "execute_result"
    }
   ],
   "source": [
    "a.ndim"
   ]
  },
  {
   "cell_type": "code",
   "execution_count": 14,
   "id": "a503b00e-e7c0-40d7-be0b-73f03a84c4fd",
   "metadata": {},
   "outputs": [
    {
     "data": {
      "text/plain": [
       "6"
      ]
     },
     "execution_count": 14,
     "metadata": {},
     "output_type": "execute_result"
    }
   ],
   "source": [
    "a.size"
   ]
  },
  {
   "cell_type": "code",
   "execution_count": 15,
   "id": "c31f9d5a-6df4-4ce4-930b-acbd0e6f91de",
   "metadata": {},
   "outputs": [
    {
     "data": {
      "text/plain": [
       "(2, 3)"
      ]
     },
     "execution_count": 15,
     "metadata": {},
     "output_type": "execute_result"
    }
   ],
   "source": [
    "a.shape"
   ]
  },
  {
   "cell_type": "code",
   "execution_count": 16,
   "id": "659a6c70-90b8-45fd-8f07-11cefd236ab1",
   "metadata": {},
   "outputs": [],
   "source": [
    "m=np.matrix(a)"
   ]
  },
  {
   "cell_type": "code",
   "execution_count": 17,
   "id": "ba9a8c01-b126-4bcb-a54b-3c2881baad2b",
   "metadata": {},
   "outputs": [],
   "source": [
    "shallow=m #shallow copy"
   ]
  },
  {
   "cell_type": "code",
   "execution_count": 18,
   "id": "b52f69f6-6b5b-4787-8040-7acbd1c7acce",
   "metadata": {},
   "outputs": [],
   "source": [
    "m[0,0]=5"
   ]
  },
  {
   "cell_type": "code",
   "execution_count": 19,
   "id": "065e9417-6276-4296-9146-31d8a9c62998",
   "metadata": {},
   "outputs": [
    {
     "data": {
      "text/plain": [
       "matrix([[5, 2, 3],\n",
       "        [4, 5, 6]])"
      ]
     },
     "execution_count": 19,
     "metadata": {},
     "output_type": "execute_result"
    }
   ],
   "source": [
    "m"
   ]
  },
  {
   "cell_type": "code",
   "execution_count": 20,
   "id": "66b9f480-3656-41c4-9c5a-195c116fff4c",
   "metadata": {},
   "outputs": [
    {
     "data": {
      "text/plain": [
       "matrix([[5, 2, 3],\n",
       "        [4, 5, 6]])"
      ]
     },
     "execution_count": 20,
     "metadata": {},
     "output_type": "execute_result"
    }
   ],
   "source": [
    "shallow"
   ]
  },
  {
   "cell_type": "code",
   "execution_count": 21,
   "id": "16d20576-adb0-4a6f-be28-c42e6f79db47",
   "metadata": {},
   "outputs": [],
   "source": [
    "deep=np.copy(m)  #deep copy"
   ]
  },
  {
   "cell_type": "code",
   "execution_count": 22,
   "id": "d28e75cd-ee03-4ebd-b24e-2b668c3b6489",
   "metadata": {},
   "outputs": [],
   "source": [
    "deep[0,0]=45"
   ]
  },
  {
   "cell_type": "code",
   "execution_count": 23,
   "id": "2af11b31-e305-4065-bd00-23a5b9917bd5",
   "metadata": {},
   "outputs": [
    {
     "data": {
      "text/plain": [
       "array([[45,  2,  3],\n",
       "       [ 4,  5,  6]])"
      ]
     },
     "execution_count": 23,
     "metadata": {},
     "output_type": "execute_result"
    }
   ],
   "source": [
    "deep"
   ]
  },
  {
   "cell_type": "code",
   "execution_count": 24,
   "id": "94ef8b24-44cf-47e6-92a0-9e04d2f90d23",
   "metadata": {},
   "outputs": [
    {
     "data": {
      "text/plain": [
       "matrix([[5, 2, 3],\n",
       "        [4, 5, 6]])"
      ]
     },
     "execution_count": 24,
     "metadata": {},
     "output_type": "execute_result"
    }
   ],
   "source": [
    "m"
   ]
  },
  {
   "cell_type": "code",
   "execution_count": 25,
   "id": "fe03209b-71fe-4a5d-9c7f-c553380eb4bb",
   "metadata": {},
   "outputs": [
    {
     "data": {
      "text/plain": [
       "array([[ True, False, False],\n",
       "       [False,  True, False],\n",
       "       [False, False,  True]])"
      ]
     },
     "execution_count": 25,
     "metadata": {},
     "output_type": "execute_result"
    }
   ],
   "source": [
    "np.fromfunction(lambda i, j : i==j, (3,3))"
   ]
  },
  {
   "cell_type": "code",
   "execution_count": 26,
   "id": "8a489e8a-786f-44a7-bb09-fb7dceeda4f0",
   "metadata": {},
   "outputs": [
    {
     "data": {
      "text/plain": [
       "array([[0., 0., 0.],\n",
       "       [0., 1., 2.],\n",
       "       [0., 2., 4.]])"
      ]
     },
     "execution_count": 26,
     "metadata": {},
     "output_type": "execute_result"
    }
   ],
   "source": [
    "np.fromfunction(lambda i, j : i*j , (3,3))"
   ]
  },
  {
   "cell_type": "code",
   "execution_count": 27,
   "id": "c4150cc7-8714-4555-88c1-b8568bc29580",
   "metadata": {},
   "outputs": [
    {
     "data": {
      "text/plain": [
       "array([0, 1, 2, 3, 4])"
      ]
     },
     "execution_count": 27,
     "metadata": {},
     "output_type": "execute_result"
    }
   ],
   "source": [
    "np.fromiter((i for i in range(5)), dtype=int)"
   ]
  },
  {
   "cell_type": "code",
   "execution_count": 28,
   "id": "33fd0392-302c-4c53-ad1e-ce93bc8d98b1",
   "metadata": {},
   "outputs": [
    {
     "data": {
      "text/plain": [
       "array([54, 78])"
      ]
     },
     "execution_count": 28,
     "metadata": {},
     "output_type": "execute_result"
    }
   ],
   "source": [
    "np.fromstring(\"54 78\", sep=\" \", dtype=int)"
   ]
  },
  {
   "cell_type": "code",
   "execution_count": 29,
   "id": "358d2601-58b1-42aa-b2c4-b53d6d296d62",
   "metadata": {},
   "outputs": [],
   "source": [
    "# list(range(1.5, 2.5, 0.1))"
   ]
  },
  {
   "cell_type": "code",
   "execution_count": 30,
   "id": "5d6960f8-0c51-4ff7-9d0f-e6eda77b0d0e",
   "metadata": {},
   "outputs": [
    {
     "data": {
      "text/plain": [
       "array([1.5, 1.6, 1.7, 1.8, 1.9, 2. , 2.1, 2.2, 2.3, 2.4])"
      ]
     },
     "execution_count": 30,
     "metadata": {},
     "output_type": "execute_result"
    }
   ],
   "source": [
    "np.arange(1.5, 2.5, 0.1)"
   ]
  },
  {
   "cell_type": "code",
   "execution_count": 33,
   "id": "cbdbd95d-600b-4b01-aecc-de440e567bf1",
   "metadata": {},
   "outputs": [
    {
     "data": {
      "text/plain": [
       "array([2.        , 2.22222222, 2.44444444, 2.66666667, 2.88888889,\n",
       "       3.11111111, 3.33333333, 3.55555556, 3.77777778, 4.        ])"
      ]
     },
     "execution_count": 33,
     "metadata": {},
     "output_type": "execute_result"
    }
   ],
   "source": [
    "np.linspace(2,4,10)"
   ]
  },
  {
   "cell_type": "code",
   "execution_count": 39,
   "id": "07b18960-8ac9-4a1c-8383-12bda034d001",
   "metadata": {},
   "outputs": [
    {
     "data": {
      "text/plain": [
       "array([[1, 0, 0],\n",
       "       [0, 1, 0],\n",
       "       [0, 0, 1]])"
      ]
     },
     "execution_count": 39,
     "metadata": {},
     "output_type": "execute_result"
    }
   ],
   "source": [
    "np.eye(3,3, dtype=int)"
   ]
  },
  {
   "cell_type": "code",
   "execution_count": 48,
   "id": "5a49cf4e-59f3-4d5b-8ce3-402b87d5c809",
   "metadata": {},
   "outputs": [],
   "source": [
    "arr1=np.zeros((3,3), dtype=int)"
   ]
  },
  {
   "cell_type": "code",
   "execution_count": 52,
   "id": "bcbbec74-e17c-40f9-9387-db78d8b12e9a",
   "metadata": {},
   "outputs": [
    {
     "data": {
      "text/plain": [
       "array([[5, 5, 5],\n",
       "       [5, 5, 5],\n",
       "       [5, 5, 5]])"
      ]
     },
     "execution_count": 52,
     "metadata": {},
     "output_type": "execute_result"
    }
   ],
   "source": [
    "arr1+5"
   ]
  },
  {
   "cell_type": "code",
   "execution_count": 53,
   "id": "b9473c91-35ab-4015-a67d-9f48c76a74a7",
   "metadata": {},
   "outputs": [],
   "source": [
    "arr2=np.ones((3,3), dtype=int)"
   ]
  },
  {
   "cell_type": "code",
   "execution_count": 54,
   "id": "2b743415-f123-4854-88e3-1b6de15933f5",
   "metadata": {},
   "outputs": [
    {
     "data": {
      "text/plain": [
       "array([[5, 5, 5],\n",
       "       [5, 5, 5],\n",
       "       [5, 5, 5]])"
      ]
     },
     "execution_count": 54,
     "metadata": {},
     "output_type": "execute_result"
    }
   ],
   "source": [
    "arr2*5"
   ]
  },
  {
   "cell_type": "code",
   "execution_count": 70,
   "id": "7bc352ed-44cb-490e-9ab7-c8c122da0114",
   "metadata": {},
   "outputs": [
    {
     "data": {
      "text/plain": [
       "array([[0.31772244, 0.97465399, 0.10953109],\n",
       "       [0.43793528, 0.14240861, 0.39752372],\n",
       "       [0.59145509, 0.01946023, 0.27056684]])"
      ]
     },
     "execution_count": 70,
     "metadata": {},
     "output_type": "execute_result"
    }
   ],
   "source": [
    "np.random.rand(3,3)"
   ]
  },
  {
   "cell_type": "code",
   "execution_count": 95,
   "id": "303fb75e-7e12-47dd-b048-b22bf5f78bf2",
   "metadata": {},
   "outputs": [
    {
     "data": {
      "text/plain": [
       "array([[-0.60322609, -1.29541052, -0.05313747],\n",
       "       [ 0.52868037, -0.88776743, -0.43378138],\n",
       "       [ 0.34987955,  0.3282397 , -1.86223062]])"
      ]
     },
     "execution_count": 95,
     "metadata": {},
     "output_type": "execute_result"
    }
   ],
   "source": [
    "np.random.randn(3,3)  #mean=0, std=1"
   ]
  },
  {
   "cell_type": "code",
   "execution_count": 15,
   "id": "a533a8f9-45b7-4f20-ab5d-b73a531170cd",
   "metadata": {},
   "outputs": [],
   "source": [
    "arr=np.random.randint(1,5 ,(3,4))"
   ]
  },
  {
   "cell_type": "code",
   "execution_count": 16,
   "id": "b7f81605-3814-4a70-afbb-3b9e5afd8741",
   "metadata": {},
   "outputs": [
    {
     "data": {
      "text/plain": [
       "array([[2, 1, 2, 1],\n",
       "       [2, 4, 4, 3],\n",
       "       [2, 1, 1, 2]])"
      ]
     },
     "execution_count": 16,
     "metadata": {},
     "output_type": "execute_result"
    }
   ],
   "source": [
    "arr"
   ]
  },
  {
   "cell_type": "code",
   "execution_count": 17,
   "id": "15c6ffdf-65c0-4dc7-85b1-e5ca6cb60b78",
   "metadata": {},
   "outputs": [
    {
     "data": {
      "text/plain": [
       "array([[2, 1, 2],\n",
       "       [1, 2, 4],\n",
       "       [4, 3, 2],\n",
       "       [1, 1, 2]])"
      ]
     },
     "execution_count": 17,
     "metadata": {},
     "output_type": "execute_result"
    }
   ],
   "source": [
    "arr.reshape(4,3)"
   ]
  },
  {
   "cell_type": "code",
   "execution_count": 18,
   "id": "2a282f32-2ccd-4c23-be4e-6ad367153546",
   "metadata": {},
   "outputs": [
    {
     "data": {
      "text/plain": [
       "array([[2, 1, 2, 1],\n",
       "       [2, 4, 4, 3],\n",
       "       [2, 1, 1, 2]])"
      ]
     },
     "execution_count": 18,
     "metadata": {},
     "output_type": "execute_result"
    }
   ],
   "source": [
    "arr"
   ]
  },
  {
   "cell_type": "code",
   "execution_count": 19,
   "id": "dd756bc1-c1ee-48b9-90f2-ae6b434cc4be",
   "metadata": {},
   "outputs": [
    {
     "data": {
      "text/plain": [
       "4"
      ]
     },
     "execution_count": 19,
     "metadata": {},
     "output_type": "execute_result"
    }
   ],
   "source": [
    "arr[1][1]"
   ]
  },
  {
   "cell_type": "code",
   "execution_count": 20,
   "id": "ec0443a5-349e-41ed-8e7f-ab0917d229ea",
   "metadata": {},
   "outputs": [
    {
     "data": {
      "text/plain": [
       "array([[4, 3],\n",
       "       [1, 2]])"
      ]
     },
     "execution_count": 20,
     "metadata": {},
     "output_type": "execute_result"
    }
   ],
   "source": [
    "arr[1:3,2:4]"
   ]
  },
  {
   "cell_type": "code",
   "execution_count": 21,
   "id": "e6bb9f3d-4843-41f7-9d30-d94a3f327f8d",
   "metadata": {},
   "outputs": [],
   "source": [
    "arr[1][2]=3"
   ]
  },
  {
   "cell_type": "code",
   "execution_count": 22,
   "id": "f58ecd5a-2726-4357-ab8a-56029d3949f1",
   "metadata": {},
   "outputs": [
    {
     "data": {
      "text/plain": [
       "array([[2, 1, 2, 1],\n",
       "       [2, 4, 3, 3],\n",
       "       [2, 1, 1, 2]])"
      ]
     },
     "execution_count": 22,
     "metadata": {},
     "output_type": "execute_result"
    }
   ],
   "source": [
    "arr"
   ]
  },
  {
   "cell_type": "code",
   "execution_count": 26,
   "id": "f3466521-8fec-4a71-95d5-677856fd7fdc",
   "metadata": {},
   "outputs": [
    {
     "data": {
      "text/plain": [
       "array([2, 1, 2, 1, 2, 2, 1, 1, 2])"
      ]
     },
     "execution_count": 26,
     "metadata": {},
     "output_type": "execute_result"
    }
   ],
   "source": [
    "arr[arr<3]"
   ]
  },
  {
   "cell_type": "code",
   "execution_count": 97,
   "id": "517fe2f6-dcc0-413d-9f96-0cd0a1bb3228",
   "metadata": {},
   "outputs": [],
   "source": [
    "arr1=np.random.randint(1,3,(3,3))"
   ]
  },
  {
   "cell_type": "code",
   "execution_count": 98,
   "id": "6ab9c730-b9dd-4342-ae67-83b828e95c7c",
   "metadata": {},
   "outputs": [],
   "source": [
    "arr2=np.random.randint(1,3,(3,3))"
   ]
  },
  {
   "cell_type": "code",
   "execution_count": 99,
   "id": "6807f19f-257b-447d-be47-1578adaebce2",
   "metadata": {},
   "outputs": [
    {
     "data": {
      "text/plain": [
       "array([[1, 1, 1],\n",
       "       [1, 2, 2],\n",
       "       [2, 2, 1]])"
      ]
     },
     "execution_count": 99,
     "metadata": {},
     "output_type": "execute_result"
    }
   ],
   "source": [
    "arr1"
   ]
  },
  {
   "cell_type": "code",
   "execution_count": 100,
   "id": "060cc338-33c6-4182-8a40-6fa5741fb99c",
   "metadata": {},
   "outputs": [
    {
     "data": {
      "text/plain": [
       "array([[1, 2, 2],\n",
       "       [1, 1, 1],\n",
       "       [1, 1, 2]])"
      ]
     },
     "execution_count": 100,
     "metadata": {},
     "output_type": "execute_result"
    }
   ],
   "source": [
    "arr2"
   ]
  },
  {
   "cell_type": "code",
   "execution_count": 101,
   "id": "de7b8049-e478-4956-a06d-d75f55d79448",
   "metadata": {},
   "outputs": [
    {
     "data": {
      "text/plain": [
       "array([[2, 3, 3],\n",
       "       [2, 3, 3],\n",
       "       [3, 3, 3]])"
      ]
     },
     "execution_count": 101,
     "metadata": {},
     "output_type": "execute_result"
    }
   ],
   "source": [
    "arr1+arr2  #index-wise operation"
   ]
  },
  {
   "cell_type": "code",
   "execution_count": 102,
   "id": "35564bed-5e16-4334-959b-d054b2517449",
   "metadata": {},
   "outputs": [
    {
     "data": {
      "text/plain": [
       "array([[3, 4, 5],\n",
       "       [5, 6, 8],\n",
       "       [5, 7, 8]])"
      ]
     },
     "execution_count": 102,
     "metadata": {},
     "output_type": "execute_result"
    }
   ],
   "source": [
    "arr1@arr2   #matrix-wise operation"
   ]
  },
  {
   "cell_type": "code",
   "execution_count": 103,
   "id": "82a1e981-190e-4ddb-a48b-7664ef1b0af3",
   "metadata": {},
   "outputs": [
    {
     "data": {
      "text/plain": [
       "array([[1, 1, 1],\n",
       "       [1, 2, 2],\n",
       "       [2, 2, 1]])"
      ]
     },
     "execution_count": 103,
     "metadata": {},
     "output_type": "execute_result"
    }
   ],
   "source": [
    "arr1**arr2"
   ]
  },
  {
   "cell_type": "code",
   "execution_count": 18,
   "id": "a458ac8f-6964-4c9c-8550-dd67783f79cf",
   "metadata": {},
   "outputs": [
    {
     "data": {
      "text/plain": [
       "array([[3, 4, 3],\n",
       "       [4, 4, 3],\n",
       "       [3, 4, 4]])"
      ]
     },
     "execution_count": 18,
     "metadata": {},
     "output_type": "execute_result"
    }
   ],
   "source": [
    "arr1+2"
   ]
  },
  {
   "cell_type": "code",
   "execution_count": 19,
   "id": "6b793732-8a1e-4f04-9b61-84f0e9f63661",
   "metadata": {},
   "outputs": [],
   "source": [
    "arr=np.zeros((3,3), dtype=int)"
   ]
  },
  {
   "cell_type": "code",
   "execution_count": 20,
   "id": "7bda5d35-597a-4c1e-b116-05a9767c611c",
   "metadata": {},
   "outputs": [],
   "source": [
    "row=np.array([1,2,3])"
   ]
  },
  {
   "cell_type": "code",
   "execution_count": 21,
   "id": "30cfd804-b6fc-49e1-b569-851aad010a47",
   "metadata": {},
   "outputs": [
    {
     "data": {
      "text/plain": [
       "array([[1, 2, 3],\n",
       "       [1, 2, 3],\n",
       "       [1, 2, 3]])"
      ]
     },
     "execution_count": 21,
     "metadata": {},
     "output_type": "execute_result"
    }
   ],
   "source": [
    "arr+row"
   ]
  },
  {
   "cell_type": "code",
   "execution_count": 22,
   "id": "ce10b2d6-440f-4427-ba99-c1c410de6304",
   "metadata": {},
   "outputs": [],
   "source": [
    "col=row.reshape(3,1)"
   ]
  },
  {
   "cell_type": "code",
   "execution_count": 23,
   "id": "d25225fa-352f-4432-9e91-7dcda8d7171b",
   "metadata": {},
   "outputs": [
    {
     "data": {
      "text/plain": [
       "array([[1],\n",
       "       [2],\n",
       "       [3]])"
      ]
     },
     "execution_count": 23,
     "metadata": {},
     "output_type": "execute_result"
    }
   ],
   "source": [
    "col"
   ]
  },
  {
   "cell_type": "code",
   "execution_count": 24,
   "id": "4101603e-2810-4fde-b944-89f188868499",
   "metadata": {},
   "outputs": [
    {
     "data": {
      "text/plain": [
       "array([[1, 1, 1],\n",
       "       [2, 2, 2],\n",
       "       [3, 3, 3]])"
      ]
     },
     "execution_count": 24,
     "metadata": {},
     "output_type": "execute_result"
    }
   ],
   "source": [
    "col+arr"
   ]
  },
  {
   "cell_type": "code",
   "execution_count": 25,
   "id": "4adb84dc-5448-4866-85c0-c88898698117",
   "metadata": {},
   "outputs": [
    {
     "data": {
      "text/plain": [
       "array([[1, 4, 1],\n",
       "       [4, 4, 1],\n",
       "       [1, 4, 4]])"
      ]
     },
     "execution_count": 25,
     "metadata": {},
     "output_type": "execute_result"
    }
   ],
   "source": [
    "np.square(arr1)"
   ]
  },
  {
   "cell_type": "code",
   "execution_count": 26,
   "id": "7fe0f2a3-b86d-4a91-8f94-f2200242bd6c",
   "metadata": {},
   "outputs": [
    {
     "data": {
      "text/plain": [
       "array([[1.        , 1.41421356, 1.        ],\n",
       "       [1.41421356, 1.41421356, 1.        ],\n",
       "       [1.        , 1.41421356, 1.41421356]])"
      ]
     },
     "execution_count": 26,
     "metadata": {},
     "output_type": "execute_result"
    }
   ],
   "source": [
    "np.sqrt(arr1)"
   ]
  },
  {
   "cell_type": "code",
   "execution_count": 39,
   "id": "112190df-10ab-4cb9-810d-c3c0caf7dcaa",
   "metadata": {},
   "outputs": [],
   "source": [
    "arr=np.array([1,2,3,4])"
   ]
  },
  {
   "cell_type": "code",
   "execution_count": 88,
   "id": "08f36017-8f39-47a9-ab7c-6651f78844ae",
   "metadata": {},
   "outputs": [
    {
     "data": {
      "text/plain": [
       "array([5, 5, 7, 7, 1, 1, 3, 3])"
      ]
     },
     "execution_count": 88,
     "metadata": {},
     "output_type": "execute_result"
    }
   ],
   "source": [
    "np.repeat(arr,2)"
   ]
  },
  {
   "cell_type": "code",
   "execution_count": 89,
   "id": "f9a86f86-4e8e-4350-8b92-5d870656eba7",
   "metadata": {},
   "outputs": [
    {
     "data": {
      "text/plain": [
       "array([[5, 7, 1, 3]])"
      ]
     },
     "execution_count": 89,
     "metadata": {},
     "output_type": "execute_result"
    }
   ],
   "source": [
    "np.expand_dims(arr, axis=0)"
   ]
  },
  {
   "cell_type": "code",
   "execution_count": 90,
   "id": "f9829cdc-818a-41c3-b484-ab645594735f",
   "metadata": {},
   "outputs": [
    {
     "data": {
      "text/plain": [
       "array([[5],\n",
       "       [7],\n",
       "       [1],\n",
       "       [3]])"
      ]
     },
     "execution_count": 90,
     "metadata": {},
     "output_type": "execute_result"
    }
   ],
   "source": [
    "np.expand_dims(arr, axis=1)"
   ]
  },
  {
   "cell_type": "code",
   "execution_count": 91,
   "id": "e8df386f-922b-44c8-9117-1de23cdd9dd5",
   "metadata": {},
   "outputs": [],
   "source": [
    "arr=np.array([[1],[2],[3]])"
   ]
  },
  {
   "cell_type": "code",
   "execution_count": 92,
   "id": "e9c55656-2743-4f64-98f3-57290cc87678",
   "metadata": {},
   "outputs": [
    {
     "data": {
      "text/plain": [
       "array([1, 2, 3])"
      ]
     },
     "execution_count": 92,
     "metadata": {},
     "output_type": "execute_result"
    }
   ],
   "source": [
    "np.squeeze(a)"
   ]
  },
  {
   "cell_type": "code",
   "execution_count": 93,
   "id": "d12d6acc-cdaf-46a9-acb5-c6688ff947ea",
   "metadata": {},
   "outputs": [],
   "source": [
    "arr=np.array([5,7,1,3])"
   ]
  },
  {
   "cell_type": "code",
   "execution_count": 94,
   "id": "2fed429a-57eb-4551-97b6-ca94699dd421",
   "metadata": {},
   "outputs": [
    {
     "data": {
      "text/plain": [
       "array([1, 3, 5, 7])"
      ]
     },
     "execution_count": 94,
     "metadata": {},
     "output_type": "execute_result"
    }
   ],
   "source": [
    "np.roll(arr,2)"
   ]
  },
  {
   "cell_type": "code",
   "execution_count": 95,
   "id": "49b62763-87c8-4a66-b696-062a512f0f0b",
   "metadata": {},
   "outputs": [
    {
     "data": {
      "text/plain": [
       "array([[5, 0, 0, 0],\n",
       "       [0, 7, 0, 0],\n",
       "       [0, 0, 1, 0],\n",
       "       [0, 0, 0, 3]])"
      ]
     },
     "execution_count": 95,
     "metadata": {},
     "output_type": "execute_result"
    }
   ],
   "source": [
    "np.diag(arr)"
   ]
  },
  {
   "cell_type": "code",
   "execution_count": 104,
   "id": "17939742-5704-4545-aedb-4da4cf9c54d2",
   "metadata": {},
   "outputs": [],
   "source": [
    "#string functions"
   ]
  },
  {
   "cell_type": "code",
   "execution_count": 105,
   "id": "99c883e8-f9aa-45af-804d-1546b0d8eb66",
   "metadata": {},
   "outputs": [],
   "source": [
    "arr=np.array([\"ShirY\",\"kisHor\"])"
   ]
  },
  {
   "cell_type": "code",
   "execution_count": 107,
   "id": "f7ff6403-4236-436a-8600-d125bb00bb20",
   "metadata": {},
   "outputs": [
    {
     "data": {
      "text/plain": [
       "array(['SHIRY', 'KISHOR'], dtype='<U6')"
      ]
     },
     "execution_count": 107,
     "metadata": {},
     "output_type": "execute_result"
    }
   ],
   "source": [
    "np.char.upper(arr)"
   ]
  },
  {
   "cell_type": "code",
   "execution_count": 108,
   "id": "85e8d26d-c26c-4484-8b97-f0eca8b00782",
   "metadata": {},
   "outputs": [
    {
     "data": {
      "text/plain": [
       "array(['shiry', 'kishor'], dtype='<U6')"
      ]
     },
     "execution_count": 108,
     "metadata": {},
     "output_type": "execute_result"
    }
   ],
   "source": [
    "np.char.lower(arr)"
   ]
  },
  {
   "cell_type": "code",
   "execution_count": 109,
   "id": "073060fd-0385-4d75-99e8-b8c91add0288",
   "metadata": {},
   "outputs": [
    {
     "data": {
      "text/plain": [
       "array(['Shiry', 'Kishor'], dtype='<U6')"
      ]
     },
     "execution_count": 109,
     "metadata": {},
     "output_type": "execute_result"
    }
   ],
   "source": [
    "np.char.capitalize(arr)"
   ]
  },
  {
   "cell_type": "code",
   "execution_count": 110,
   "id": "b2f13e3a-c0a6-4f5f-8e84-9063fdd7d385",
   "metadata": {},
   "outputs": [],
   "source": [
    "arr=np.random.randint(1,9,(3,3))"
   ]
  },
  {
   "cell_type": "code",
   "execution_count": 111,
   "id": "ce259740-542b-455a-a44b-796a7613abd9",
   "metadata": {},
   "outputs": [
    {
     "data": {
      "text/plain": [
       "array([[2, 3, 4],\n",
       "       [4, 1, 5],\n",
       "       [3, 6, 1]])"
      ]
     },
     "execution_count": 111,
     "metadata": {},
     "output_type": "execute_result"
    }
   ],
   "source": [
    "arr"
   ]
  },
  {
   "cell_type": "code",
   "execution_count": 112,
   "id": "c5147f16-4808-400c-8429-e6348296636f",
   "metadata": {},
   "outputs": [
    {
     "data": {
      "text/plain": [
       "array([[ 0.90929743,  0.14112001, -0.7568025 ],\n",
       "       [-0.7568025 ,  0.84147098, -0.95892427],\n",
       "       [ 0.14112001, -0.2794155 ,  0.84147098]])"
      ]
     },
     "execution_count": 112,
     "metadata": {},
     "output_type": "execute_result"
    }
   ],
   "source": [
    "np.sin(arr)"
   ]
  },
  {
   "cell_type": "code",
   "execution_count": 113,
   "id": "9ca4967f-fdf9-4aba-94a9-155953629255",
   "metadata": {},
   "outputs": [
    {
     "data": {
      "text/plain": [
       "array([[-0.41614684, -0.9899925 , -0.65364362],\n",
       "       [-0.65364362,  0.54030231,  0.28366219],\n",
       "       [-0.9899925 ,  0.96017029,  0.54030231]])"
      ]
     },
     "execution_count": 113,
     "metadata": {},
     "output_type": "execute_result"
    }
   ],
   "source": [
    "np.cos(arr)"
   ]
  },
  {
   "cell_type": "code",
   "execution_count": 114,
   "id": "7c3d4778-48b6-454f-8fe1-677b4a57b1e2",
   "metadata": {},
   "outputs": [
    {
     "data": {
      "text/plain": [
       "array([[-2.18503986, -0.14254654,  1.15782128],\n",
       "       [ 1.15782128,  1.55740772, -3.38051501],\n",
       "       [-0.14254654, -0.29100619,  1.55740772]])"
      ]
     },
     "execution_count": 114,
     "metadata": {},
     "output_type": "execute_result"
    }
   ],
   "source": [
    "np.tan(arr)"
   ]
  },
  {
   "cell_type": "code",
   "execution_count": 115,
   "id": "f7d050d9-fb19-419e-8522-56225c185b45",
   "metadata": {},
   "outputs": [
    {
     "data": {
      "text/plain": [
       "array([[ 4,  9, 16],\n",
       "       [16,  1, 25],\n",
       "       [ 9, 36,  1]])"
      ]
     },
     "execution_count": 115,
     "metadata": {},
     "output_type": "execute_result"
    }
   ],
   "source": [
    "np.power(arr,2)"
   ]
  },
  {
   "cell_type": "code",
   "execution_count": 116,
   "id": "59fdd0ab-3380-41fa-b389-bdcca6d289c8",
   "metadata": {},
   "outputs": [
    {
     "data": {
      "text/plain": [
       "array([[1.41421356, 1.73205081, 2.        ],\n",
       "       [2.        , 1.        , 2.23606798],\n",
       "       [1.73205081, 2.44948974, 1.        ]])"
      ]
     },
     "execution_count": 116,
     "metadata": {},
     "output_type": "execute_result"
    }
   ],
   "source": [
    "np.sqrt(arr)"
   ]
  },
  {
   "cell_type": "code",
   "execution_count": 117,
   "id": "137db1ec-b069-4e20-b277-1b5b49ec0758",
   "metadata": {},
   "outputs": [
    {
     "data": {
      "text/plain": [
       "3.2222222222222223"
      ]
     },
     "execution_count": 117,
     "metadata": {},
     "output_type": "execute_result"
    }
   ],
   "source": [
    "np.mean(arr)"
   ]
  },
  {
   "cell_type": "code",
   "execution_count": 123,
   "id": "c12b71df-d15c-4135-9e50-318c17923b23",
   "metadata": {},
   "outputs": [
    {
     "data": {
      "text/plain": [
       "3.0"
      ]
     },
     "execution_count": 123,
     "metadata": {},
     "output_type": "execute_result"
    }
   ],
   "source": [
    "np.median(arr)"
   ]
  },
  {
   "cell_type": "code",
   "execution_count": 120,
   "id": "429b3707-6f77-4e5e-8b56-2a317ece52cd",
   "metadata": {},
   "outputs": [
    {
     "data": {
      "text/plain": [
       "1.617802197617893"
      ]
     },
     "execution_count": 120,
     "metadata": {},
     "output_type": "execute_result"
    }
   ],
   "source": [
    "np.std(arr)"
   ]
  },
  {
   "cell_type": "code",
   "execution_count": 121,
   "id": "4f8dfd1e-229c-4e8f-9634-50e4d4eb11f0",
   "metadata": {},
   "outputs": [
    {
     "data": {
      "text/plain": [
       "1"
      ]
     },
     "execution_count": 121,
     "metadata": {},
     "output_type": "execute_result"
    }
   ],
   "source": [
    "np.min(arr)"
   ]
  },
  {
   "cell_type": "code",
   "execution_count": 134,
   "id": "f5172fa8-fa74-4f5e-9d5b-e2f6428ab7d3",
   "metadata": {},
   "outputs": [
    {
     "data": {
      "text/plain": [
       "9"
      ]
     },
     "execution_count": 134,
     "metadata": {},
     "output_type": "execute_result"
    }
   ],
   "source": [
    "arr.max()"
   ]
  },
  {
   "cell_type": "code",
   "execution_count": 125,
   "id": "63fffdce-4839-4329-a384-16262b6236a8",
   "metadata": {},
   "outputs": [],
   "source": [
    "arr=np.random.randint(0,10,15)"
   ]
  },
  {
   "cell_type": "code",
   "execution_count": 126,
   "id": "d694af39-b4f2-43e3-8f0a-e725d11eec34",
   "metadata": {},
   "outputs": [
    {
     "data": {
      "text/plain": [
       "array([8, 0, 7, 6, 3, 1, 7, 8, 5, 3, 2, 1, 1, 9, 7])"
      ]
     },
     "execution_count": 126,
     "metadata": {},
     "output_type": "execute_result"
    }
   ],
   "source": [
    "arr"
   ]
  },
  {
   "cell_type": "code",
   "execution_count": 127,
   "id": "00b44605-28bc-47b7-af9a-6eb2bd814dee",
   "metadata": {},
   "outputs": [
    {
     "data": {
      "text/plain": [
       "14"
      ]
     },
     "execution_count": 127,
     "metadata": {},
     "output_type": "execute_result"
    }
   ],
   "source": [
    "np.count_nonzero(arr)"
   ]
  },
  {
   "cell_type": "code",
   "execution_count": 131,
   "id": "f8621a06-8224-4658-be92-85446d421d97",
   "metadata": {},
   "outputs": [
    {
     "data": {
      "text/plain": [
       "(array([ 0,  7, 13]),)"
      ]
     },
     "execution_count": 131,
     "metadata": {},
     "output_type": "execute_result"
    }
   ],
   "source": [
    "np.where(arr>7)"
   ]
  },
  {
   "cell_type": "code",
   "execution_count": 133,
   "id": "4bc8d3a9-387c-44b8-b087-0b8b7496e615",
   "metadata": {},
   "outputs": [
    {
     "data": {
      "text/plain": [
       "array([8, 8, 9])"
      ]
     },
     "execution_count": 133,
     "metadata": {},
     "output_type": "execute_result"
    }
   ],
   "source": [
    "np.extract(arr>7, arr)"
   ]
  },
  {
   "cell_type": "code",
   "execution_count": 135,
   "id": "94320f62-5283-41f1-b714-9d760af77554",
   "metadata": {},
   "outputs": [
    {
     "data": {
      "text/plain": [
       "array([8, 0, 7, 6, 3, 1, 7, 8, 5, 3, 2, 1, 1, 9, 7])"
      ]
     },
     "execution_count": 135,
     "metadata": {},
     "output_type": "execute_result"
    }
   ],
   "source": [
    "arr"
   ]
  },
  {
   "cell_type": "code",
   "execution_count": 136,
   "id": "a2a4276c-7430-423c-9335-967c4f31e9c1",
   "metadata": {},
   "outputs": [],
   "source": [
    "a=arr.copy()  #deep copy"
   ]
  },
  {
   "cell_type": "code",
   "execution_count": 138,
   "id": "c4c4cfd7-2599-46d8-8ee2-a05bd522a160",
   "metadata": {},
   "outputs": [],
   "source": [
    "a[0]=1"
   ]
  },
  {
   "cell_type": "code",
   "execution_count": 139,
   "id": "f2964f44-42e9-4b29-aa2d-127dd1d6c67a",
   "metadata": {},
   "outputs": [
    {
     "data": {
      "text/plain": [
       "array([1, 0, 7, 6, 3, 1, 7, 8, 5, 3, 2, 1, 1, 9, 7])"
      ]
     },
     "execution_count": 139,
     "metadata": {},
     "output_type": "execute_result"
    }
   ],
   "source": [
    "a"
   ]
  },
  {
   "cell_type": "code",
   "execution_count": 140,
   "id": "9f563f64-d87a-4c51-bb65-406756c2a061",
   "metadata": {},
   "outputs": [
    {
     "data": {
      "text/plain": [
       "array([8, 0, 7, 6, 3, 1, 7, 8, 5, 3, 2, 1, 1, 9, 7])"
      ]
     },
     "execution_count": 140,
     "metadata": {},
     "output_type": "execute_result"
    }
   ],
   "source": [
    "arr"
   ]
  },
  {
   "cell_type": "code",
   "execution_count": 141,
   "id": "75cdf9c9-d435-4743-9dca-e0e95bce5bb4",
   "metadata": {},
   "outputs": [],
   "source": [
    "b=arr.view()  #shallow copy"
   ]
  },
  {
   "cell_type": "code",
   "execution_count": 142,
   "id": "9fadaa04-8378-483a-b232-5951c62a6ab2",
   "metadata": {},
   "outputs": [],
   "source": [
    "b[0]=2"
   ]
  },
  {
   "cell_type": "code",
   "execution_count": 143,
   "id": "78a62781-bed7-477b-85f8-45b9984a27df",
   "metadata": {},
   "outputs": [
    {
     "data": {
      "text/plain": [
       "array([2, 0, 7, 6, 3, 1, 7, 8, 5, 3, 2, 1, 1, 9, 7])"
      ]
     },
     "execution_count": 143,
     "metadata": {},
     "output_type": "execute_result"
    }
   ],
   "source": [
    "b"
   ]
  },
  {
   "cell_type": "code",
   "execution_count": 144,
   "id": "b923c581-cd5b-40b8-b5ff-282844936d61",
   "metadata": {},
   "outputs": [
    {
     "data": {
      "text/plain": [
       "array([2, 0, 7, 6, 3, 1, 7, 8, 5, 3, 2, 1, 1, 9, 7])"
      ]
     },
     "execution_count": 144,
     "metadata": {},
     "output_type": "execute_result"
    }
   ],
   "source": [
    "arr"
   ]
  },
  {
   "cell_type": "code",
   "execution_count": 147,
   "id": "9af315ef-baa2-4b89-8177-ef1145cb0e5a",
   "metadata": {},
   "outputs": [
    {
     "data": {
      "text/plain": [
       "array([[1., 0., 0., 0., 0.],\n",
       "       [0., 1., 0., 0., 0.],\n",
       "       [0., 0., 1., 0., 0.],\n",
       "       [0., 0., 0., 1., 0.],\n",
       "       [0., 0., 0., 0., 1.]])"
      ]
     },
     "execution_count": 147,
     "metadata": {},
     "output_type": "execute_result"
    }
   ],
   "source": [
    "np.eye(5)"
   ]
  },
  {
   "cell_type": "code",
   "execution_count": 149,
   "id": "b41e8e26-f8b9-44b1-9d99-e14a6ed79dd2",
   "metadata": {},
   "outputs": [
    {
     "data": {
      "text/plain": [
       "380"
      ]
     },
     "execution_count": 149,
     "metadata": {},
     "output_type": "execute_result"
    }
   ],
   "source": [
    "np.dot(a,b)  #matrix multiplication"
   ]
  },
  {
   "cell_type": "code",
   "execution_count": 152,
   "id": "02722840-1550-4140-bc13-a6d76d1d2d2b",
   "metadata": {},
   "outputs": [
    {
     "data": {
      "text/plain": [
       "380"
      ]
     },
     "execution_count": 152,
     "metadata": {},
     "output_type": "execute_result"
    }
   ],
   "source": [
    "a@b   #matrix multiplication"
   ]
  }
 ],
 "metadata": {
  "kernelspec": {
   "display_name": "Python 3 (ipykernel)",
   "language": "python",
   "name": "python3"
  },
  "language_info": {
   "codemirror_mode": {
    "name": "ipython",
    "version": 3
   },
   "file_extension": ".py",
   "mimetype": "text/x-python",
   "name": "python",
   "nbconvert_exporter": "python",
   "pygments_lexer": "ipython3",
   "version": "3.10.8"
  }
 },
 "nbformat": 4,
 "nbformat_minor": 5
}
